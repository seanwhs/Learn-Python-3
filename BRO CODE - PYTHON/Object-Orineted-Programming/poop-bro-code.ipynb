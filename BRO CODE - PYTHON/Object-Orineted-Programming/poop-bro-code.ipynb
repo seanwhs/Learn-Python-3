{
 "cells": [
  {
   "cell_type": "markdown",
   "metadata": {},
   "source": [
    "# Python Object Oriented Programming\n",
    "\n",
    "https://www.youtube.com/watch?v=IbMDCwVm63M\n",
    "\n",
    "* Object - Bundle of related attributes (variables) and methods ('functions' that belong to an object)\n",
    "    * Need a class to create many objects        \n",
    "* Class - Blueprint used to design the structure and layout of an object\n",
    "* __init__ method   - the constructor in Python, automatically called when a new object is created.  \n",
    "                    - It initializes the attributes of the class."
   ]
  },
  {
   "cell_type": "code",
   "execution_count": 2,
   "metadata": {},
   "outputs": [
    {
     "name": "stdout",
     "output_type": "stream",
     "text": [
      "-----------------car1-----------------\n",
      "<car.Car object at 0x000001DBA9099FD0>\n",
      "Mustang\n",
      "2024\n",
      "Red\n",
      "False\n",
      "You drive the Red Mustang\n",
      "You stop the Red Mustang\n",
      "Decsription:: 2024, Mustang, Red, For Sale: False\n",
      "-----------------car2-----------------\n",
      "<car.Car object at 0x000001DBAA7B2B70>\n",
      "Corvette\n",
      "1982\n",
      "Blue\n",
      "True\n",
      "You drive the Blue Corvette\n",
      "You stop the Blue Corvette\n",
      "Decsription:: 2024, Mustang, Red, For Sale: False\n"
     ]
    }
   ],
   "source": [
    "from car import Car\n",
    "\n",
    "car1 = Car('Mustang', 2024, 'Red', False)\n",
    "car2 = Car('Corvette', 1982, 'Blue', True)\n",
    "\n",
    "print('-----------------car1-----------------')\n",
    "print(car1) \n",
    "print(car1.model) \n",
    "print(car1.year) \n",
    "print(car1.colour) \n",
    "print(car1.is_for_sale) \n",
    "car1.drive()\n",
    "car1.stop()\n",
    "car1.describe()\n",
    "\n",
    "print('-----------------car2-----------------')\n",
    "print(car2) \n",
    "print(car2.model) \n",
    "print(car2.year) \n",
    "print(car2.colour) \n",
    "print(car2.is_for_sale) \n",
    "car2.drive()\n",
    "car2.stop()\n",
    "car1.describe()\n"
   ]
  },
  {
   "cell_type": "markdown",
   "metadata": {},
   "source": [
    "## Class Variables\n",
    "* Class Variables       - Shared amongst all obects in the class    \n",
    "                        - Defined outside the constructor   \n",
    "* Instance Variables    - Unique to ech object   \n",
    "                        - Defined within the constructor    \n",
    "* self parameter        - Reference to the current instance of the class.     \n",
    "                        - Allows us to access the attributes and methods of the object."
   ]
  },
  {
   "cell_type": "code",
   "execution_count": 8,
   "metadata": {},
   "outputs": [
    {
     "name": "stdout",
     "output_type": "stream",
     "text": [
      "----------Student1------------\n",
      "Sean\n",
      "55\n",
      "2024\n",
      "2024\n",
      "num of students created:: 1\n",
      "----------Student2------------\n",
      "James\n",
      "42\n",
      "2024\n",
      "2024\n",
      "num of students created:: 2\n",
      "----------Using Both Instance and Class Variables------------\n",
      "My graduating class of 2024 has 5 students:\n",
      "Sean\n",
      "James\n",
      "Mary\n",
      "Simon\n",
      "Peter\n"
     ]
    }
   ],
   "source": [
    "class Student:\n",
    "    class_year = 2024\n",
    "    num_students = 0\n",
    "\n",
    "    def __init__(self, name, age, gender):\n",
    "        self.name = name\n",
    "        self.age = age\n",
    "        self.gender = gender\n",
    "        Student.num_students += 1\n",
    "\n",
    "student1 = Student('Sean', 55, 'Male')\n",
    "print('----------Student1------------')\n",
    "print(student1.name)\n",
    "print(student1.age)\n",
    "print(student1.class_year) #class variable\n",
    "print(Student.class_year) #good practice to access via class name rather than instanceobject\n",
    "print(f'num of students created:: {Student.num_students}')\n",
    "\n",
    "student2 = Student('James', 42, 'Male')\n",
    "print('----------Student2------------')\n",
    "print(student2.name)\n",
    "print(student2.age)\n",
    "print(student1.class_year) #class variable\n",
    "print(Student.class_year) #good practice to access via class name rather than instanceobject\n",
    "print(f'num of students created:: {Student.num_students}')\n",
    "\n",
    "student3 = Student('Mary', 20, 'Male')\n",
    "student4 = Student('Simon', 27, 'Male')\n",
    "student5 = Student('Peter', 47, 'Male')\n",
    "\n",
    "print('----------Using Both Instance and Class Variables------------')\n",
    "print(f'My graduating class of 2024 has {Student.num_students} students:')\n",
    "print(student1.name)\n",
    "print(student2.name)\n",
    "print(student3.name)\n",
    "print(student4.name)\n",
    "print(student5.name)"
   ]
  },
  {
   "cell_type": "markdown",
   "metadata": {},
   "source": [
    "## Class Method     \n",
    "* Operate on the class itself, rather than on an instance of the class. \n",
    "* Defined using the @classmethod decorator\n",
    "* First parameter of a class method is usually cls, which represents the class itself (similar to how instance methods have self representing the instance)."
   ]
  },
  {
   "cell_type": "code",
   "execution_count": 3,
   "metadata": {},
   "outputs": [
    {
     "name": "stdout",
     "output_type": "stream",
     "text": [
      "Hello, I am a class variable\n",
      "Hello, I am a class variable\n"
     ]
    }
   ],
   "source": [
    "class MyClass:\n",
    "    class_variable = \"Hello, I am a class variable\"\n",
    "\n",
    "    def __init__(self, name):\n",
    "        self.name = name\n",
    "\n",
    "    @classmethod\n",
    "    def print_class_variable(cls):\n",
    "        print(cls.class_variable)\n",
    "\n",
    "# Calling with the class name\n",
    "MyClass.print_class_variable()\n",
    "\n",
    "# Creating an instance and calling with the instance\n",
    "obj = MyClass(\"John\")\n",
    "obj.print_class_variable()\n"
   ]
  },
  {
   "cell_type": "markdown",
   "metadata": {},
   "source": [
    "## self and  super() \n",
    "\n",
    "* self: Refers to the current instance of the class. It allows access to instance attributes and methods within a class.\n",
    "\n",
    "* super(): Used to call methods from a parent class in a subclass. It is typically used in method overriding to call the parent class’s method, and in __init__() to initialize the parent class's attributes. It helps manage inheritance and is especially useful in multiple inheritance."
   ]
  },
  {
   "cell_type": "markdown",
   "metadata": {},
   "source": [
    "### Class Methods as alternative contsructors\n",
    "* Factory methods: Class methods are commonly used for creating alternative constructors. \n",
    "* A class method can be used to instantiate an object using different arguments or methods."
   ]
  },
  {
   "cell_type": "code",
   "execution_count": 7,
   "metadata": {},
   "outputs": [
    {
     "name": "stdout",
     "output_type": "stream",
     "text": [
      "James 25\n",
      "Sean 57\n"
     ]
    }
   ],
   "source": [
    "class Person:\n",
    "    # Initializer method to set up name and age for the instance\n",
    "    def __init__(self, name, age):\n",
    "        self.name = name\n",
    "        self.age = age\n",
    "\n",
    "    # Class method to create a Person object based on birth year\n",
    "    @classmethod\n",
    "    def from_birth_year(cls, name, birth_year):\n",
    "        current_year = 2025  # Assume the current year is 2025\n",
    "        age = current_year - birth_year  # Calculate age based on birth year\n",
    "        return cls(name, age)  # Return an instance of Person using the calculated age\n",
    "    \n",
    "# Creating an object in the usual way by directly passing name and age\n",
    "p1 = Person('James', 25)\n",
    "print(p1.name, p1.age)\n",
    "\n",
    "# Creating an object using the class method, which calculates age based on birth year\n",
    "p2 = Person.from_birth_year('Sean', 1968)\n",
    "print(p2.name, p2.age)"
   ]
  },
  {
   "cell_type": "markdown",
   "metadata": {},
   "source": [
    "## Static Methods\n",
    "* A  method that belongs to a class but does not operate on an object or the class itself. \n",
    "* Static methods do not take any special first parameter (i.e., they do not have access to self or cls)."
   ]
  },
  {
   "cell_type": "code",
   "execution_count": 8,
   "metadata": {},
   "outputs": [
    {
     "name": "stdout",
     "output_type": "stream",
     "text": [
      "Addition: 8\n",
      "Multiplication: 24\n"
     ]
    }
   ],
   "source": [
    "class MathUtils:\n",
    "    # Static method for addition of two numbers\n",
    "    @staticmethod\n",
    "    def add(a, b):\n",
    "        return a + b\n",
    "\n",
    "    # Static method for multiplication of two numbers\n",
    "    @staticmethod\n",
    "    def multiply(a, b):\n",
    "        return a * b\n",
    "\n",
    "# Calling static methods using the class name\n",
    "result_add = MathUtils.add(5, 3)\n",
    "result_multiply = MathUtils.multiply(4, 6)\n",
    "\n",
    "print(f\"Addition: {result_add}\")  # Outputs: Addition: 8\n",
    "print(f\"Multiplication: {result_multiply}\")  # Outputs: Multiplication: 24"
   ]
  },
  {
   "cell_type": "markdown",
   "metadata": {},
   "source": [
    "## Inheritance\n",
    "https://www.geeksforgeeks.org/python-oops-concepts/\n",
    "* Inheritance allows a class (child class) to acquire properties and methods of another class (parent class). \n",
    "* Supports hierarchical classification and promotes code reuse.\n",
    "\n",
    "### Types of Inheritance\n",
    "* Single Inheritance: A child class inherits from a single parent class.\n",
    "* Multiple Inheritance: A child class inherits from more than one parent class.\n",
    "* Multilevel Inheritance: A child class inherits from a parent class, which in turn inherits from another class.\n",
    "* Hierarchical Inheritance: Multiple child classes inherit from a single parent class.\n",
    "* Hybrid Inheritance: A combination of two or more types of inheritance.\n",
    "\n",
    "\n"
   ]
  },
  {
   "cell_type": "code",
   "execution_count": 9,
   "metadata": {},
   "outputs": [
    {
     "name": "stdout",
     "output_type": "stream",
     "text": [
      "Dog's name is Buddy\n",
      "Labrador woofs\n",
      "Dog's name is Max\n",
      "Max guides the way\n",
      "Dog's name is Charlie\n",
      "Friendly!\n",
      "Golden Retriever barks!\n"
     ]
    }
   ],
   "source": [
    "# Single Inheritance\n",
    "class Dog:\n",
    "    def __init__(self, name):\n",
    "        self.name = name  # Initialize the name attribute\n",
    "\n",
    "    def display_name(self):\n",
    "        print(f\"Dog's name is {self.name}\")  # Display the dog's name\n",
    "\n",
    "class Labrador(Dog):    # Single Inheritance (Labrador inherits from Dog)\n",
    "    def __init__(self, name):\n",
    "        super().__init__(name)  # Call the parent class's __init__() method to initialize 'name'\n",
    "    \n",
    "    def sound(self):\n",
    "        print('Labrador woofs')  # Specific sound for Labrador\n",
    "\n",
    "# MultiLevel Inheritance\n",
    "class GuideDog(Labrador): # MultiLevel Inheritance (GuideDog inherits from Labrador, which inherits from Dog)\n",
    "    def __init__(self, name):\n",
    "        super().__init__(name)  # Call the __init__() method of Labrador (and indirectly Dog) to initialize 'name'\n",
    "    \n",
    "    def guide(self):\n",
    "        print(f\"{self.name} guides the way\")  # GuideDog-specific behavior\n",
    "\n",
    "# Multiple Inheritance\n",
    "class Friendly:\n",
    "    def greet(self):\n",
    "        print('Friendly!')  # Friendly behavior to greet\n",
    "\n",
    "class GoldenRetriever(Dog, Friendly):  # Multiple Inheritance (GoldenRetriever inherits from both Dog and Friendly)\n",
    "    def __init__(self, name):\n",
    "        super().__init__(name)  # Call the __init__() method of Dog to initialize 'name'\n",
    "    \n",
    "    def sound(self):\n",
    "        print(\"Golden Retriever barks!\")  # Specific sound for Golden Retriever\n",
    "\n",
    "# Example Usage\n",
    "lab = Labrador('Buddy')\n",
    "lab.display_name()  # Calling the method from the Dog class\n",
    "lab.sound()  # Calling the method from the Labrador class\n",
    "\n",
    "guide_dog = GuideDog('Max')\n",
    "guide_dog.display_name()  # Calling the method from the Dog class\n",
    "guide_dog.guide()  # Calling the method from the GuideDog class\n",
    "\n",
    "retriever = GoldenRetriever('Charlie')\n",
    "retriever.display_name()  # Calling the method from the Dog class\n",
    "retriever.greet()  # Calling the method from the Friendly class\n",
    "retriever.sound()  # Calling the method from the GoldenRetriever class"
   ]
  },
  {
   "cell_type": "markdown",
   "metadata": {},
   "source": [
    "## Polymorphism\n",
    "* Allows methods to have the same name but behave differently based on the object’s context. \n",
    "* Can be achieved through method overriding or overloading."
   ]
  },
  {
   "cell_type": "markdown",
   "metadata": {},
   "source": [
    "### Types of Polymorphism\n",
    "\n",
    "* Compile-Time Polymorphism: This type of polymorphism is determined during the compilation of the program. It allows methods or operators with the same name to behave differently based on their input parameters or usage. It is commonly referred to as method or operator overloading.  In Python, true method overloading is not supported in the way it is in some other languages (e.g., Java), but it can be mimicked by using default arguments.\n",
    "\n",
    "* Run-Time Polymorphism: This type of polymorphism is determined during the execution of the program. It occurs when a subclass provides a specific implementation for a method already defined in its parent class, commonly known as method overriding."
   ]
  },
  {
   "cell_type": "code",
   "execution_count": 10,
   "metadata": {},
   "outputs": [
    {
     "name": "stdout",
     "output_type": "stream",
     "text": [
      "-----------Run Time Polymorphism----------\n",
      "Dog Sound\n",
      "Labrador Woofs\n",
      "Beagle Woofs\n",
      "----------Compile Time Polymorphism-------\n",
      "3\n",
      "6\n",
      "10\n"
     ]
    }
   ],
   "source": [
    "# Parent Class\n",
    "class Dog:\n",
    "    def sound(self):\n",
    "        print('Dog Sound') # default implementation\n",
    "\n",
    "# Run Time Polymorphism\n",
    "class Labrador(Dog):\n",
    "    def sound(self):\n",
    "        print('Labrador Woofs') # Overriding parent method\n",
    "\n",
    "class Beagle(Dog):\n",
    "    def sound(self):\n",
    "        print('Beagle Woofs') # Overidding parent method\n",
    "\n",
    "# Compile Time Polymorphism - Method Overloading\n",
    "class Calculator:\n",
    "    def add(self, a, b=0, c=0):\n",
    "        return a + b + c # Support multiple ways to call add()\n",
    "\n",
    "# Example Usage\n",
    "print('-----------Run Time Polymorphism----------')\n",
    "dogs = [Dog(), Labrador(), Beagle()]\n",
    "for dog in dogs:\n",
    "    dog.sound()\n",
    "\n",
    "print('----------Compile Time Polymorphism-------')\n",
    "calc= Calculator()\n",
    "print(calc.add(1+2))                    # Two arguments\n",
    "print(calc.add(1+2+3))                  # Three arguments\n",
    "print(calc.add(1+2+3+4))                # Four arguments\n",
    "      \n",
    "     "
   ]
  },
  {
   "cell_type": "code",
   "execution_count": 13,
   "metadata": {},
   "outputs": [
    {
     "name": "stdout",
     "output_type": "stream",
     "text": [
      "4\n",
      "Hello World!\n",
      "[1, 2, 3, 4.5]\n"
     ]
    }
   ],
   "source": [
    "# Method Overloading using positional arguments\n",
    "def add(a,b):\n",
    "    return a +b\n",
    "\n",
    "print(add (1, 3))\n",
    "print(add ('Hello ', 'World!'))\n",
    "print(add ([1,2,3], [4.5]))"
   ]
  },
  {
   "cell_type": "markdown",
   "metadata": {},
   "source": []
  }
 ],
 "metadata": {
  "kernelspec": {
   "display_name": "Python 3",
   "language": "python",
   "name": "python3"
  },
  "language_info": {
   "codemirror_mode": {
    "name": "ipython",
    "version": 3
   },
   "file_extension": ".py",
   "mimetype": "text/x-python",
   "name": "python",
   "nbconvert_exporter": "python",
   "pygments_lexer": "ipython3",
   "version": "3.12.4"
  }
 },
 "nbformat": 4,
 "nbformat_minor": 2
}
