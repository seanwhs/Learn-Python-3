{
 "cells": [
  {
   "cell_type": "markdown",
   "metadata": {},
   "source": [
    "# Python Object Oriented Programming\n",
    "\n",
    "https://www.youtube.com/watch?v=IbMDCwVm63M\n",
    "\n",
    "* Object - Bundle of related attributes (variables) and methods ('functions' that belong to an object)\n",
    "    * Need a class to create many objects        \n",
    "* Class - Blueprint used to design the structure and layout of an object"
   ]
  },
  {
   "cell_type": "code",
   "execution_count": 2,
   "metadata": {},
   "outputs": [
    {
     "name": "stdout",
     "output_type": "stream",
     "text": [
      "-----------------car1-----------------\n",
      "<car.Car object at 0x000001DBA9099FD0>\n",
      "Mustang\n",
      "2024\n",
      "Red\n",
      "False\n",
      "You drive the Red Mustang\n",
      "You stop the Red Mustang\n",
      "Decsription:: 2024, Mustang, Red, For Sale: False\n",
      "-----------------car2-----------------\n",
      "<car.Car object at 0x000001DBAA7B2B70>\n",
      "Corvette\n",
      "1982\n",
      "Blue\n",
      "True\n",
      "You drive the Blue Corvette\n",
      "You stop the Blue Corvette\n",
      "Decsription:: 2024, Mustang, Red, For Sale: False\n"
     ]
    }
   ],
   "source": [
    "from car import Car\n",
    "\n",
    "car1 = Car('Mustang', 2024, 'Red', False)\n",
    "car2 = Car('Corvette', 1982, 'Blue', True)\n",
    "\n",
    "print('-----------------car1-----------------')\n",
    "print(car1) \n",
    "print(car1.model) \n",
    "print(car1.year) \n",
    "print(car1.colour) \n",
    "print(car1.is_for_sale) \n",
    "car1.drive()\n",
    "car1.stop()\n",
    "car1.describe()\n",
    "\n",
    "print('-----------------car2-----------------')\n",
    "print(car2) \n",
    "print(car2.model) \n",
    "print(car2.year) \n",
    "print(car2.colour) \n",
    "print(car2.is_for_sale) \n",
    "car2.drive()\n",
    "car2.stop()\n",
    "car1.describe()\n"
   ]
  },
  {
   "cell_type": "code",
   "execution_count": null,
   "metadata": {},
   "outputs": [],
   "source": []
  }
 ],
 "metadata": {
  "kernelspec": {
   "display_name": "Python 3",
   "language": "python",
   "name": "python3"
  },
  "language_info": {
   "codemirror_mode": {
    "name": "ipython",
    "version": 3
   },
   "file_extension": ".py",
   "mimetype": "text/x-python",
   "name": "python",
   "nbconvert_exporter": "python",
   "pygments_lexer": "ipython3",
   "version": "3.12.4"
  }
 },
 "nbformat": 4,
 "nbformat_minor": 2
}
