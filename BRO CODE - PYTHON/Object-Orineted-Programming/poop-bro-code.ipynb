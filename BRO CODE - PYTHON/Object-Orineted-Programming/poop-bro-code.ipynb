{
 "cells": [
  {
   "cell_type": "markdown",
   "metadata": {},
   "source": [
    "# Python Object Oriented Programming\n",
    "\n",
    "https://www.youtube.com/watch?v=IbMDCwVm63M\n",
    "\n",
    "* Object - Bundle of related attributes (variables) and methods ('functions' that belong to an object)\n",
    "    * Need a class to create many objects        \n",
    "* Class - Blueprint used to design the structure and layout of an object\n",
    "* __init__ method   - the constructor in Python, automatically called when a new object is created.  \n",
    "                    - It initializes the attributes of the class."
   ]
  },
  {
   "cell_type": "code",
   "execution_count": 2,
   "metadata": {},
   "outputs": [
    {
     "name": "stdout",
     "output_type": "stream",
     "text": [
      "-----------------car1-----------------\n",
      "<car.Car object at 0x000001DBA9099FD0>\n",
      "Mustang\n",
      "2024\n",
      "Red\n",
      "False\n",
      "You drive the Red Mustang\n",
      "You stop the Red Mustang\n",
      "Decsription:: 2024, Mustang, Red, For Sale: False\n",
      "-----------------car2-----------------\n",
      "<car.Car object at 0x000001DBAA7B2B70>\n",
      "Corvette\n",
      "1982\n",
      "Blue\n",
      "True\n",
      "You drive the Blue Corvette\n",
      "You stop the Blue Corvette\n",
      "Decsription:: 2024, Mustang, Red, For Sale: False\n"
     ]
    }
   ],
   "source": [
    "from car import Car\n",
    "\n",
    "car1 = Car('Mustang', 2024, 'Red', False)\n",
    "car2 = Car('Corvette', 1982, 'Blue', True)\n",
    "\n",
    "print('-----------------car1-----------------')\n",
    "print(car1) \n",
    "print(car1.model) \n",
    "print(car1.year) \n",
    "print(car1.colour) \n",
    "print(car1.is_for_sale) \n",
    "car1.drive()\n",
    "car1.stop()\n",
    "car1.describe()\n",
    "\n",
    "print('-----------------car2-----------------')\n",
    "print(car2) \n",
    "print(car2.model) \n",
    "print(car2.year) \n",
    "print(car2.colour) \n",
    "print(car2.is_for_sale) \n",
    "car2.drive()\n",
    "car2.stop()\n",
    "car1.describe()\n"
   ]
  },
  {
   "cell_type": "markdown",
   "metadata": {},
   "source": [
    "## Class Variables\n",
    "* Class Variables       - Shared amongst all obects in the class    \n",
    "                        - Defined outside the constructor   \n",
    "* Instance Variables    - Unique to ech object   \n",
    "                        - Defined within the constructor    \n",
    "* self parameter        - Reference to the current instance of the class.     \n",
    "                        - Allows us to access the attributes and methods of the object."
   ]
  },
  {
   "cell_type": "code",
   "execution_count": 8,
   "metadata": {},
   "outputs": [
    {
     "name": "stdout",
     "output_type": "stream",
     "text": [
      "----------Student1------------\n",
      "Sean\n",
      "55\n",
      "2024\n",
      "2024\n",
      "num of students created:: 1\n",
      "----------Student2------------\n",
      "James\n",
      "42\n",
      "2024\n",
      "2024\n",
      "num of students created:: 2\n",
      "----------Using Both Instance and Class Variables------------\n",
      "My graduating class of 2024 has 5 students:\n",
      "Sean\n",
      "James\n",
      "Mary\n",
      "Simon\n",
      "Peter\n"
     ]
    }
   ],
   "source": [
    "class Student:\n",
    "    class_year = 2024\n",
    "    num_students = 0\n",
    "\n",
    "    def __init__(self, name, age, gender):\n",
    "        self.name = name\n",
    "        self.age = age\n",
    "        self.gender = gender\n",
    "        Student.num_students += 1\n",
    "\n",
    "student1 = Student('Sean', 55, 'Male')\n",
    "print('----------Student1------------')\n",
    "print(student1.name)\n",
    "print(student1.age)\n",
    "print(student1.class_year) #class variable\n",
    "print(Student.class_year) #good practice to access via class name rather than instanceobject\n",
    "print(f'num of students created:: {Student.num_students}')\n",
    "\n",
    "student2 = Student('James', 42, 'Male')\n",
    "print('----------Student2------------')\n",
    "print(student2.name)\n",
    "print(student2.age)\n",
    "print(student1.class_year) #class variable\n",
    "print(Student.class_year) #good practice to access via class name rather than instanceobject\n",
    "print(f'num of students created:: {Student.num_students}')\n",
    "\n",
    "student3 = Student('Mary', 20, 'Male')\n",
    "student4 = Student('Simon', 27, 'Male')\n",
    "student5 = Student('Peter', 47, 'Male')\n",
    "\n",
    "print('----------Using Both Instance and Class Variables------------')\n",
    "print(f'My graduating class of 2024 has {Student.num_students} students:')\n",
    "print(student1.name)\n",
    "print(student2.name)\n",
    "print(student3.name)\n",
    "print(student4.name)\n",
    "print(student5.name)"
   ]
  },
  {
   "cell_type": "markdown",
   "metadata": {},
   "source": [
    "## Class Method     \n",
    "* Operate on the class itself, rather than on an instance of the class. \n",
    "* Defined using the @classmethod decorator\n",
    "* First parameter of a class method is usually cls, which represents the class itself (similar to how instance methods have self representing the instance)."
   ]
  },
  {
   "cell_type": "code",
   "execution_count": 3,
   "metadata": {},
   "outputs": [
    {
     "name": "stdout",
     "output_type": "stream",
     "text": [
      "Hello, I am a class variable\n",
      "Hello, I am a class variable\n"
     ]
    }
   ],
   "source": [
    "class MyClass:\n",
    "    class_variable = \"Hello, I am a class variable\"\n",
    "\n",
    "    def __init__(self, name):\n",
    "        self.name = name\n",
    "\n",
    "    @classmethod\n",
    "    def print_class_variable(cls):\n",
    "        print(cls.class_variable)\n",
    "\n",
    "# Calling with the class name\n",
    "MyClass.print_class_variable()\n",
    "\n",
    "# Creating an instance and calling with the instance\n",
    "obj = MyClass(\"John\")\n",
    "obj.print_class_variable()\n"
   ]
  },
  {
   "cell_type": "markdown",
   "metadata": {},
   "source": [
    "## self and  super() \n",
    "\n",
    "* self: Refers to the current instance of the class. It allows access to instance attributes and methods within a class.\n",
    "\n",
    "* super(): Used to call methods from a parent class in a subclass. It is typically used in method overriding to call the parent class’s method, and in __init__() to initialize the parent class's attributes. It helps manage inheritance and is especially useful in multiple inheritance."
   ]
  },
  {
   "cell_type": "markdown",
   "metadata": {},
   "source": [
    "### Class Methods as alternative contsructors\n",
    "* Factory methods: Class methods are commonly used for creating alternative constructors. \n",
    "* A class method can be used to instantiate an object using different arguments or methods."
   ]
  },
  {
   "cell_type": "code",
   "execution_count": 7,
   "metadata": {},
   "outputs": [
    {
     "name": "stdout",
     "output_type": "stream",
     "text": [
      "James 25\n",
      "Sean 57\n"
     ]
    }
   ],
   "source": [
    "class Person:\n",
    "    # Initializer method to set up name and age for the instance\n",
    "    def __init__(self, name, age):\n",
    "        self.name = name\n",
    "        self.age = age\n",
    "\n",
    "    # Class method to create a Person object based on birth year\n",
    "    @classmethod\n",
    "    def from_birth_year(cls, name, birth_year):\n",
    "        current_year = 2025  # Assume the current year is 2025\n",
    "        age = current_year - birth_year  # Calculate age based on birth year\n",
    "        return cls(name, age)  # Return an instance of Person using the calculated age\n",
    "    \n",
    "# Creating an object in the usual way by directly passing name and age\n",
    "p1 = Person('James', 25)\n",
    "print(p1.name, p1.age)\n",
    "\n",
    "# Creating an object using the class method, which calculates age based on birth year\n",
    "p2 = Person.from_birth_year('Sean', 1968)\n",
    "print(p2.name, p2.age)"
   ]
  },
  {
   "cell_type": "markdown",
   "metadata": {},
   "source": [
    "## Static Methods\n",
    "* A  method that belongs to a class but does not operate on an object or the class itself. \n",
    "* Static methods do not take any special first parameter (i.e., they do not have access to self or cls)."
   ]
  },
  {
   "cell_type": "code",
   "execution_count": 8,
   "metadata": {},
   "outputs": [
    {
     "name": "stdout",
     "output_type": "stream",
     "text": [
      "Addition: 8\n",
      "Multiplication: 24\n"
     ]
    }
   ],
   "source": [
    "class MathUtils:\n",
    "    # Static method for addition of two numbers\n",
    "    @staticmethod\n",
    "    def add(a, b):\n",
    "        return a + b\n",
    "\n",
    "    # Static method for multiplication of two numbers\n",
    "    @staticmethod\n",
    "    def multiply(a, b):\n",
    "        return a * b\n",
    "\n",
    "# Calling static methods using the class name\n",
    "result_add = MathUtils.add(5, 3)\n",
    "result_multiply = MathUtils.multiply(4, 6)\n",
    "\n",
    "print(f\"Addition: {result_add}\")  # Outputs: Addition: 8\n",
    "print(f\"Multiplication: {result_multiply}\")  # Outputs: Multiplication: 24"
   ]
  },
  {
   "cell_type": "markdown",
   "metadata": {},
   "source": [
    "## Inheritance\n",
    "https://www.geeksforgeeks.org/python-oops-concepts/\n",
    "* Inheritance allows a class (child class) to acquire properties and methods of another class (parent class). \n",
    "* Supports hierarchical classification and promotes code reuse.\n",
    "\n",
    "### Types of Inheritance\n",
    "* Single Inheritance: A child class inherits from a single parent class.\n",
    "* Multiple Inheritance: A child class inherits from more than one parent class.\n",
    "* Multilevel Inheritance: A child class inherits from a parent class, which in turn inherits from another class.\n",
    "* Hierarchical Inheritance: Multiple child classes inherit from a single parent class.\n",
    "* Hybrid Inheritance: A combination of two or more types of inheritance.\n",
    "\n",
    "\n"
   ]
  },
  {
   "cell_type": "code",
   "execution_count": 9,
   "metadata": {},
   "outputs": [
    {
     "name": "stdout",
     "output_type": "stream",
     "text": [
      "Dog's name is Buddy\n",
      "Labrador woofs\n",
      "Dog's name is Max\n",
      "Max guides the way\n",
      "Dog's name is Charlie\n",
      "Friendly!\n",
      "Golden Retriever barks!\n"
     ]
    }
   ],
   "source": [
    "# Single Inheritance\n",
    "class Dog:\n",
    "    def __init__(self, name):\n",
    "        self.name = name  # Initialize the name attribute\n",
    "\n",
    "    def display_name(self):\n",
    "        print(f\"Dog's name is {self.name}\")  # Display the dog's name\n",
    "\n",
    "class Labrador(Dog):    # Single Inheritance (Labrador inherits from Dog)\n",
    "    def __init__(self, name):\n",
    "        super().__init__(name)  # Call the parent class's __init__() method to initialize 'name'\n",
    "    \n",
    "    def sound(self):\n",
    "        print('Labrador woofs')  # Specific sound for Labrador\n",
    "\n",
    "# MultiLevel Inheritance\n",
    "class GuideDog(Labrador): # MultiLevel Inheritance (GuideDog inherits from Labrador, which inherits from Dog)\n",
    "    def __init__(self, name):\n",
    "        super().__init__(name)  # Call the __init__() method of Labrador (and indirectly Dog) to initialize 'name'\n",
    "    \n",
    "    def guide(self):\n",
    "        print(f\"{self.name} guides the way\")  # GuideDog-specific behavior\n",
    "\n",
    "# Multiple Inheritance\n",
    "class Friendly:\n",
    "    def greet(self):\n",
    "        print('Friendly!')  # Friendly behavior to greet\n",
    "\n",
    "class GoldenRetriever(Dog, Friendly):  # Multiple Inheritance (GoldenRetriever inherits from both Dog and Friendly)\n",
    "    def __init__(self, name):\n",
    "        super().__init__(name)  # Call the __init__() method of Dog to initialize 'name'\n",
    "    \n",
    "    def sound(self):\n",
    "        print(\"Golden Retriever barks!\")  # Specific sound for Golden Retriever\n",
    "\n",
    "# Example Usage\n",
    "lab = Labrador('Buddy')\n",
    "lab.display_name()  # Calling the method from the Dog class\n",
    "lab.sound()  # Calling the method from the Labrador class\n",
    "\n",
    "guide_dog = GuideDog('Max')\n",
    "guide_dog.display_name()  # Calling the method from the Dog class\n",
    "guide_dog.guide()  # Calling the method from the GuideDog class\n",
    "\n",
    "retriever = GoldenRetriever('Charlie')\n",
    "retriever.display_name()  # Calling the method from the Dog class\n",
    "retriever.greet()  # Calling the method from the Friendly class\n",
    "retriever.sound()  # Calling the method from the GoldenRetriever class"
   ]
  },
  {
   "cell_type": "markdown",
   "metadata": {},
   "source": [
    "## Polymorphism\n",
    "* Allows methods to have the same name but behave differently based on the object’s context. \n",
    "* Can be achieved through method overriding or overloading."
   ]
  },
  {
   "cell_type": "markdown",
   "metadata": {},
   "source": [
    "### Types of Polymorphism\n",
    "\n",
    "* Compile-Time Polymorphism (Method Overloading): This type of polymorphism is determined during the compilation of the program. It allows methods or operators with the same name to behave differently based on their input parameters or usage. It is commonly referred to as method or operator overloading.  In Python, true method overloading is not supported in the way it is in some other languages (e.g., Java), but it can be mimicked by using default arguments.\n",
    "\n",
    "* Run-Time Polymorphism (Method Overriding): This type of polymorphism is determined during the execution of the program. It occurs when a subclass provides a specific implementation for a method already defined in its parent class, commonly known as method overriding."
   ]
  },
  {
   "cell_type": "code",
   "execution_count": 10,
   "metadata": {},
   "outputs": [
    {
     "name": "stdout",
     "output_type": "stream",
     "text": [
      "-----------Run Time Polymorphism----------\n",
      "Dog Sound\n",
      "Labrador Woofs\n",
      "Beagle Woofs\n",
      "----------Compile Time Polymorphism-------\n",
      "3\n",
      "6\n",
      "10\n"
     ]
    }
   ],
   "source": [
    "# Parent Class\n",
    "class Dog:\n",
    "    def sound(self):\n",
    "        print('Dog Sound') # default implementation\n",
    "\n",
    "# Run Time Polymorphism\n",
    "class Labrador(Dog):\n",
    "    def sound(self):\n",
    "        print('Labrador Woofs') # Overriding parent method\n",
    "\n",
    "class Beagle(Dog):\n",
    "    def sound(self):\n",
    "        print('Beagle Woofs') # Overidding parent method\n",
    "\n",
    "# Compile Time Polymorphism - Method Overloading\n",
    "class Calculator:\n",
    "    def add(self, a, b=0, c=0):\n",
    "        return a + b + c # Support multiple ways to call add()\n",
    "\n",
    "# Example Usage\n",
    "print('-----------Run Time Polymorphism (Overidding) ----------')\n",
    "dogs = [Dog(), Labrador(), Beagle()]\n",
    "for dog in dogs:\n",
    "    dog.sound()\n",
    "\n",
    "print('----------Compile Time Polymorphism (Overloading) -------')\n",
    "calc= Calculator()\n",
    "print(calc.add(1+2))                    # Two arguments\n",
    "print(calc.add(1+2+3))                  # Three arguments\n",
    "print(calc.add(1+2+3+4))                # Four arguments\n",
    "      \n",
    "     "
   ]
  },
  {
   "cell_type": "code",
   "execution_count": 4,
   "metadata": {},
   "outputs": [
    {
     "name": "stdout",
     "output_type": "stream",
     "text": [
      "c1 name:: child\n",
      "c2 name:: parent\n"
     ]
    }
   ],
   "source": [
    "# Variable Overriding\n",
    "class Parent:\n",
    "    name = 'parent'\n",
    "\n",
    "class Child_1(Parent):\n",
    "    name = 'child'\n",
    "\n",
    "class Child_2(Parent):\n",
    "    pass\n",
    "\n",
    "c1 = Child_1()\n",
    "c2 = Child_2()\n",
    "print(f'c1 name:: {c1.name}')\n",
    "print(f'c2 name:: {c2.name}')"
   ]
  },
  {
   "cell_type": "code",
   "execution_count": 6,
   "metadata": {},
   "outputs": [
    {
     "name": "stdout",
     "output_type": "stream",
     "text": [
      "1.5\n"
     ]
    }
   ],
   "source": [
    "# Method Overriding\n",
    "class Bank:\n",
    "    def interest_rate(self):\n",
    "        return 0\n",
    "    \n",
    "class OCBC(Bank):\n",
    "    def interest_rate(self):\n",
    "        return 1.5\n",
    "    \n",
    "b1 = OCBC()\n",
    "print(b1.interest_rate())\n"
   ]
  },
  {
   "cell_type": "code",
   "execution_count": 14,
   "metadata": {},
   "outputs": [
    {
     "name": "stdout",
     "output_type": "stream",
     "text": [
      "Hi Stranger\n",
      "Hello Sean\n"
     ]
    }
   ],
   "source": [
    "# Method Overloading\n",
    "class Greeting:\n",
    "    def say_hello(self, name = None):\n",
    "        if name != None:\n",
    "            return f'Hello {name}'\n",
    "        else:\n",
    "            return 'Hi Stranger'\n",
    "\n",
    "g1 = Greeting()\n",
    "g2 = Greeting()\n",
    "\n",
    "print(g1.say_hello())\n",
    "print(g2.say_hello('Sean'))\n"
   ]
  },
  {
   "cell_type": "code",
   "execution_count": 13,
   "metadata": {},
   "outputs": [
    {
     "name": "stdout",
     "output_type": "stream",
     "text": [
      "4\n",
      "Hello World!\n",
      "[1, 2, 3, 4.5]\n"
     ]
    }
   ],
   "source": [
    "# Method Overloading using positional arguments\n",
    "def add(a,b):\n",
    "    return a +b\n",
    "\n",
    "print(add (1, 3))\n",
    "print(add ('Hello ', 'World!'))\n",
    "print(add ([1,2,3], [4.5]))"
   ]
  },
  {
   "cell_type": "markdown",
   "metadata": {},
   "source": [
    "## Abstraction"
   ]
  },
  {
   "cell_type": "code",
   "execution_count": 14,
   "metadata": {},
   "outputs": [
    {
     "name": "stdout",
     "output_type": "stream",
     "text": [
      "Fix Bugs\n",
      "process is running\n",
      "It's Serving!\n"
     ]
    }
   ],
   "source": [
    "# Import ABC and abstractmethod from abc to create abstract base class\n",
    "from abc import ABC, abstractmethod\n",
    "\n",
    "# Define the abstract class 'Computer' which inherits from ABC (Abstract Base Class)\n",
    "class Computer(ABC):\n",
    "    # Abstract method that must be implemented by all subclasses\n",
    "    @abstractmethod\n",
    "    def process(self):\n",
    "        pass\n",
    "\n",
    "# Define the 'Laptop' class which is a subclass of 'Computer'\n",
    "class Laptop(Computer):\n",
    "    # Implement the 'process' method for Laptop\n",
    "    def process(self):\n",
    "        print('process is running')\n",
    "\n",
    "# Define the 'Server' class which is another subclass of 'Computer'\n",
    "class Server(Computer):\n",
    "    # Implement the 'process' method for Server\n",
    "    def process(self):\n",
    "        print(\"It's Serving!\")\n",
    "\n",
    "# Define the 'Programmer' class, which represents a programmer\n",
    "class Programmer():\n",
    "    # The 'work' method accepts a variable number of 'Computer' objects (passed as a tuple)\n",
    "    def work(self, *computers):\n",
    "        print('Fix Bugs')\n",
    "        # Loop through each computer object in the 'computers' tuple\n",
    "        for computer in computers:\n",
    "            # Call the 'process' method on each computer\n",
    "            computer.process()\n",
    "\n",
    "# Create instances of Laptop and Server\n",
    "lab = Laptop()\n",
    "serve = Server()\n",
    "\n",
    "# Create an instance of Programmer\n",
    "prog = Programmer()\n",
    "\n",
    "# Call the 'work' method on the programmer instance, passing the Laptop and Server objects\n",
    "prog.work(lab, serve)\n"
   ]
  },
  {
   "cell_type": "markdown",
   "metadata": {},
   "source": [
    "## Encapsulation"
   ]
  },
  {
   "cell_type": "code",
   "execution_count": 18,
   "metadata": {},
   "outputs": [
    {
     "name": "stdout",
     "output_type": "stream",
     "text": [
      "Sean 56 M\n",
      "Default 25 F\n"
     ]
    }
   ],
   "source": [
    "class Person:\n",
    "    # The constructor method initializes the private attributes of the Person class.\n",
    "    def __init__(self, name, age, gender):\n",
    "        self.__name = name  # Private attribute for name\n",
    "        self.__age = age    # Private attribute for age\n",
    "        self.__gender = gender  # Private attribute for gender\n",
    "\n",
    "    @property\n",
    "    def name(self):\n",
    "        # The 'name' property getter returns the private __name attribute.\n",
    "        return self.__name\n",
    "    \n",
    "    @property\n",
    "    def age(self):\n",
    "        # The 'age' property getter returns the private __age attribute.\n",
    "        return self.__age\n",
    "    \n",
    "    @property\n",
    "    def gender(self):\n",
    "        # The 'gender' property getter returns the private __gender attribute.\n",
    "        return self.__gender\n",
    "    \n",
    "    @name.setter\n",
    "    def name(self, name):\n",
    "        # The 'name' setter method checks if the name is 'John Doe' or 'Jane Doe'.\n",
    "        # If true, it sets the name to 'Default', otherwise sets it to the given name.\n",
    "        if name == 'John Doe' or name == 'Jane Doe':\n",
    "            self.__name = 'Default'\n",
    "        else:\n",
    "            self.__name = name\n",
    "\n",
    "    @age.setter\n",
    "    def age(self, age):\n",
    "        # The 'age' setter method ensures the age is between 1 and 120.\n",
    "        if 0 < age < 120: \n",
    "            self.__age = age\n",
    "        else:\n",
    "            raise ValueError('Age must be between 1 and 120')\n",
    "\n",
    "    @gender.setter\n",
    "    def gender(self, gender):\n",
    "        # The 'gender' setter method checks if the gender is either 'F' or 'M'.\n",
    "        # If true, it sets the gender; otherwise, it raises a ValueError.\n",
    "        if gender not in ['F', 'M']:\n",
    "            raise ValueError('Gender must be \"F\" or \"M\"')\n",
    "        else:\n",
    "            self.__gender = gender \n",
    "\n",
    "# Creating an instance of the Person class with initial values\n",
    "p1 = Person('Sean', 56, 'M')\n",
    "\n",
    "# Printing the current values for name, age, and gender using the property getters.\n",
    "print(p1.name, p1.age, p1.gender)  \n",
    "\n",
    "# Setting the name to 'John Doe', which will trigger the setter method \n",
    "# and change the name to 'Default'.\n",
    "p1.name = 'John Doe'\n",
    "\n",
    "# Setting the age to 25, which will pass the validation and set the age.\n",
    "p1.age = 25  # Try an erroneous value to observe effect!\n",
    "\n",
    "# Setting the gender to \"F\", which is valid, so it will successfully change.\n",
    "p1.gender = \"F\" # Try an erroneous value to observe effect!\n",
    "\n",
    "# Printing the updated values after applying the setter methods.\n",
    "print(p1.name, p1.age, p1.gender)  \n"
   ]
  },
  {
   "cell_type": "markdown",
   "metadata": {},
   "source": [
    "## Sample Program"
   ]
  },
  {
   "cell_type": "code",
   "execution_count": 20,
   "metadata": {},
   "outputs": [
    {
     "name": "stdout",
     "output_type": "stream",
     "text": [
      "Student Alice Johnson added to the system.\n",
      "Student Bob Smith added to the system.\n",
      "Teacher Mr. David added to the system.\n",
      "Teacher Mrs. Emily added to the system.\n",
      "Displaying all students:\n",
      "Student Name: Alice Johnson\n",
      "Age: 20\n",
      "Email: alice@email.com\n",
      "Student ID: S001\n",
      "Major: Computer Science\n",
      "------------------------------\n",
      "Student Name: Bob Smith\n",
      "Age: 21\n",
      "Email: bob@email.com\n",
      "Student ID: S002\n",
      "Major: Mathematics\n",
      "------------------------------\n",
      "Displaying all teachers:\n",
      "Teacher Name: Mr. David\n",
      "Age: 45\n",
      "Email: david@email.com\n",
      "Employee ID: T001\n",
      "Department: Computer Science\n",
      "------------------------------\n",
      "Teacher Name: Mrs. Emily\n",
      "Age: 38\n",
      "Email: emily@email.com\n",
      "Employee ID: T002\n",
      "Department: Mathematics\n",
      "------------------------------\n",
      "Major for Alice Johnson updated to Data Science\n",
      "Department for Mr. David updated to Physics\n",
      "Displaying all students:\n",
      "Student Name: Alice Johnson\n",
      "Age: 20\n",
      "Email: alice@email.com\n",
      "Student ID: S001\n",
      "Major: Data Science\n",
      "------------------------------\n",
      "Student Name: Bob Smith\n",
      "Age: 21\n",
      "Email: bob@email.com\n",
      "Student ID: S002\n",
      "Major: Mathematics\n",
      "------------------------------\n",
      "Displaying all teachers:\n",
      "Teacher Name: Mr. David\n",
      "Age: 45\n",
      "Email: david@email.com\n",
      "Employee ID: T001\n",
      "Department: Physics\n",
      "------------------------------\n",
      "Teacher Name: Mrs. Emily\n",
      "Age: 38\n",
      "Email: emily@email.com\n",
      "Employee ID: T002\n",
      "Department: Mathematics\n",
      "------------------------------\n"
     ]
    }
   ],
   "source": [
    "from abc import ABC, abstractmethod\n",
    "\n",
    "# Abstraction: Abstract class for Person\n",
    "class Person(ABC):\n",
    "    def __init__(self, name, age, email):\n",
    "        self.__name = name  # Encapsulation: name is a private attribute\n",
    "        self.__age = age    # Encapsulation: age is a private attribute\n",
    "        self.__email = email  # Encapsulation: email is a private attribute\n",
    "    \n",
    "    @property\n",
    "    def name(self):\n",
    "        return self.__name\n",
    "    \n",
    "    @property\n",
    "    def age(self):\n",
    "        return self.__age\n",
    "    \n",
    "    @property\n",
    "    def email(self):\n",
    "        return self.__email\n",
    "    \n",
    "    # Abstract method to be implemented by subclasses\n",
    "    @abstractmethod\n",
    "    def display_info(self):\n",
    "        pass\n",
    "\n",
    "# Inheritance: Student inherits from Person\n",
    "class Student(Person):\n",
    "    def __init__(self, name, age, email, student_id, major):\n",
    "        super().__init__(name, age, email)  # Initialize base class (Person)\n",
    "        self.__student_id = student_id\n",
    "        self.__major = major\n",
    "\n",
    "    @property\n",
    "    def student_id(self):\n",
    "        return self.__student_id\n",
    "\n",
    "    @property\n",
    "    def major(self):\n",
    "        return self.__major\n",
    "\n",
    "    def display_info(self):\n",
    "        # Polymorphism: Implementing the abstract method for Student\n",
    "        print(f\"Student Name: {self.name}\")\n",
    "        print(f\"Age: {self.age}\")\n",
    "        print(f\"Email: {self.email}\")\n",
    "        print(f\"Student ID: {self.student_id}\")\n",
    "        print(f\"Major: {self.major}\")\n",
    "        print('-' * 30)\n",
    "\n",
    "    def update_major(self, new_major):\n",
    "        # Encapsulation: Changing the major\n",
    "        self.__major = new_major\n",
    "        print(f\"Major for {self.name} updated to {new_major}\")\n",
    "\n",
    "\n",
    "# Inheritance: Teacher inherits from Person\n",
    "class Teacher(Person):\n",
    "    def __init__(self, name, age, email, employee_id, department):\n",
    "        super().__init__(name, age, email)  # Initialize base class (Person)\n",
    "        self.__employee_id = employee_id\n",
    "        self.__department = department\n",
    "\n",
    "    @property\n",
    "    def employee_id(self):\n",
    "        return self.__employee_id\n",
    "\n",
    "    @property\n",
    "    def department(self):\n",
    "        return self.__department\n",
    "\n",
    "    def display_info(self):\n",
    "        # Polymorphism: Implementing the abstract method for Teacher\n",
    "        print(f\"Teacher Name: {self.name}\")\n",
    "        print(f\"Age: {self.age}\")\n",
    "        print(f\"Email: {self.email}\")\n",
    "        print(f\"Employee ID: {self.employee_id}\")\n",
    "        print(f\"Department: {self.department}\")\n",
    "        print('-' * 30)\n",
    "\n",
    "    def update_department(self, new_department):\n",
    "        # Encapsulation: Changing the department\n",
    "        self.__department = new_department\n",
    "        print(f\"Department for {self.name} updated to {new_department}\")\n",
    "\n",
    "\n",
    "# Class to manage a collection of students and teachers\n",
    "class School:\n",
    "    def __init__(self):\n",
    "        self.__students = []  # Encapsulation: private list of students\n",
    "        self.__teachers = []  # Encapsulation: private list of teachers\n",
    "\n",
    "    def add_student(self, student):\n",
    "        if isinstance(student, Student):  # Polymorphism: Check if it's a Student\n",
    "            self.__students.append(student)\n",
    "            print(f\"Student {student.name} added to the system.\")\n",
    "        else:\n",
    "            print(\"Only a Student instance can be added.\")\n",
    "\n",
    "    def add_teacher(self, teacher):\n",
    "        if isinstance(teacher, Teacher):  # Polymorphism: Check if it's a Teacher\n",
    "            self.__teachers.append(teacher)\n",
    "            print(f\"Teacher {teacher.name} added to the system.\")\n",
    "        else:\n",
    "            print(\"Only a Teacher instance can be added.\")\n",
    "\n",
    "    def display_all_students(self):\n",
    "        print(\"Displaying all students:\")\n",
    "        for student in self.__students:\n",
    "            student.display_info()\n",
    "\n",
    "    def display_all_teachers(self):\n",
    "        print(\"Displaying all teachers:\")\n",
    "        for teacher in self.__teachers:\n",
    "            teacher.display_info()\n",
    "\n",
    "\n",
    "# Main code to demonstrate the functionality\n",
    "if __name__ == \"__main__\":\n",
    "    # Creating Student and Teacher instances\n",
    "    student1 = Student(\"Alice Johnson\", 20, \"alice@email.com\", \"S001\", \"Computer Science\")\n",
    "    student2 = Student(\"Bob Smith\", 21, \"bob@email.com\", \"S002\", \"Mathematics\")\n",
    "    \n",
    "    teacher1 = Teacher(\"Mr. David\", 45, \"david@email.com\", \"T001\", \"Computer Science\")\n",
    "    teacher2 = Teacher(\"Mrs. Emily\", 38, \"emily@email.com\", \"T002\", \"Mathematics\")\n",
    "    \n",
    "    # Adding them to the school system\n",
    "    school = School()\n",
    "    school.add_student(student1)\n",
    "    school.add_student(student2)\n",
    "    school.add_teacher(teacher1)\n",
    "    school.add_teacher(teacher2)\n",
    "\n",
    "    # Displaying all students and teachers\n",
    "    school.display_all_students()\n",
    "    school.display_all_teachers()\n",
    "\n",
    "    # Updating student and teacher details\n",
    "    student1.update_major(\"Data Science\")\n",
    "    teacher1.update_department(\"Physics\")\n",
    "\n",
    "    # Display updated information\n",
    "    school.display_all_students()\n",
    "    school.display_all_teachers()\n"
   ]
  }
 ],
 "metadata": {
  "kernelspec": {
   "display_name": "Python 3",
   "language": "python",
   "name": "python3"
  },
  "language_info": {
   "codemirror_mode": {
    "name": "ipython",
    "version": 3
   },
   "file_extension": ".py",
   "mimetype": "text/x-python",
   "name": "python",
   "nbconvert_exporter": "python",
   "pygments_lexer": "ipython3",
   "version": "3.12.4"
  }
 },
 "nbformat": 4,
 "nbformat_minor": 2
}
