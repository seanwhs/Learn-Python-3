{
 "cells": [
  {
   "cell_type": "markdown",
   "metadata": {},
   "source": [
    "\n",
    "# 2. Data Structures\n",
    "\n",
    "Data structures are constructs that can contain one or more variables. They are containers that can store a lot of data into a single entity.\n",
    "\n",
    "**Python's four basic data structures are:**\n",
    " * Lists\n",
    " * Dictionaries\n",
    " * Tuples\n",
    " * Sets\n",
    "\n",
    "## Lists \n",
    "Lists are defined by square brackets `[]` with elements separated by commas. They can have elements of any data type.\n",
    "\n",
    "Lists are arguably the most used data structure in Python.\n",
    "\n",
    "### List syntax \n",
    "<code> L = [item_1, item_2, ..., item_n] </code>\n",
    "\n",
    "### Mutability\n",
    "Lists are ***mutable***. They can be changed after creation.\n",
    "\n",
    "### List examples\n",
    "Some examples of lists:"
   ]
  },
  {
   "cell_type": "code",
   "execution_count": 1,
   "metadata": {},
   "outputs": [],
   "source": [
    "# List with integers\n",
    "a = [10, 20, 30, 40]\n",
    "\n",
    "# Multiple data types in the same list\n",
    "b = [1, True, 'Hi!', 4.3]                       \n",
    "\n",
    "# List of lists\n",
    "c = [['Nested', 'lists'], ['are', 'possible']]  "
   ]
  },
  {
   "cell_type": "markdown",
   "metadata": {},
   "source": [
    "## Dictionaries\n",
    "Dictionaries have key/value pairs which are enclosed in curly brackets`{}`. A value can be fetched by querying the corresponding key. Refering the data via logically named keys instead of list indexes makes the code more readable.\n",
    "\n",
    "### Dictionary syntax    \n",
    "    \n",
    "<code> d = {key1: value1, key2: value2, ..., key_n: value_n} </code>\n",
    "    \n",
    "Note that values can be of any data type like floats, strings etc., but they can also be lists or other data structures.\n",
    "\n",
    "**Keys must be unique within the dictionary**. Otherwise it would be hard to extract the value by calling out a certain key, see the section about indexing and slicing below.\n",
    "\n",
    "Keys also must be of an immutable type.\n",
    " \n",
    "### Mutability\n",
    "Dictionaries are ***mutable***. They can be changed after creation.\n",
    "\n",
    "### Dictionary examples\n",
    "Some examples of dictionaries:"
   ]
  },
  {
   "cell_type": "code",
   "execution_count": 2,
   "metadata": {},
   "outputs": [],
   "source": [
    "# Strings as keys and numbers as values\n",
    "d1 = {'axial_force': 319.2, 'moment': 74, 'shear': 23}      \n",
    "\n",
    "# Strings as keys and lists as values\n",
    "d2 = {'Point1': [1.3, 51, 10.6], 'Point2': [7.1, 11, 6.7]}  \n",
    "\n",
    "# Keys of different types (int and str, don't do this!)\n",
    "d3 = {1: True, 'hej': 23}                                   "
   ]
  },
  {
   "cell_type": "markdown",
   "metadata": {
    "collapsed": true
   },
   "source": [
    "The first two dictionaries above have a certain trend. For `d1` the keys are strings and the values are integers. For `d2` the keys are strings and the values are lists. These are well-structured dictionaries.\n",
    "\n",
    "However, `d3` has keys that are of mixed types! The first key is an integer and the second is a string. This is totally valid syntax, but not a good idea to do.\n",
    "\n",
    "As with most stuff in Python the flexibility is very nice, but it can also be confusing to have many different types mixed in the same data structure. To make code more readable, it is often preferred to keep the same trend throughout the dictionary. I.e. all keys are of same type and all values are of the same type as in `d1` and `d2`.\n",
    "\n",
    "The keys and values can be extracted separately by the methods `dict.keys()` and `dict.values()`:"
   ]
  },
  {
   "cell_type": "code",
   "execution_count": 3,
   "metadata": {},
   "outputs": [
    {
     "data": {
      "text/plain": [
       "dict_keys(['axial_force', 'moment', 'shear'])"
      ]
     },
     "execution_count": 3,
     "metadata": {},
     "output_type": "execute_result"
    }
   ],
   "source": [
    "d1.keys()"
   ]
  },
  {
   "cell_type": "code",
   "execution_count": 4,
   "metadata": {},
   "outputs": [
    {
     "data": {
      "text/plain": [
       "dict_values([319.2, 74, 23])"
      ]
     },
     "execution_count": 4,
     "metadata": {},
     "output_type": "execute_result"
    }
   ],
   "source": [
    "d1.values()"
   ]
  },
  {
   "cell_type": "markdown",
   "metadata": {},
   "source": [
    "See how to extract values from a dictionary [further down](#Extracting-values-from-dictionaries)."
   ]
  },
  {
   "cell_type": "markdown",
   "metadata": {},
   "source": [
    "## Tuples\n",
    "Tuples are very comparable to lists, but they are defined by parentheses `()`. Most notable difference from lists is that tuples are **immutable**.\n",
    "\n",
    "### Tuple syntax \n",
    "<code> t = (item_1, item_2, ..., item_n) </code>\n",
    "\n",
    "### Mutability\n",
    "Tuples are ***immutable***. They cannot be changed after creation.\n",
    "\n",
    "### Tuple examples"
   ]
  },
  {
   "cell_type": "code",
   "execution_count": 5,
   "metadata": {},
   "outputs": [],
   "source": [
    "# Simple tuple of integers\n",
    "t1 = (1, 24, 56)   \n",
    "\n",
    "# Multiple types as tuple elements\n",
    "t2 = (1, 1.62, '12', [1, 2 , 3])  \n",
    "\n",
    "# Tuple of tuples\n",
    "points = ((4, 5), (12, 6), (14, 9))   "
   ]
  },
  {
   "cell_type": "markdown",
   "metadata": {},
   "source": [
    "## Sets\n",
    "Sets are defined with curly brackets `{}`. They are **unordered and don't have an index**. See description of indexing further down. Sets also have **unique items**.\n",
    "\n",
    "### Set syntax\n",
    "   \n",
    "<code> s = {item_1, item_2, ..., item_n} </code>\n",
    "\n",
    "The primary idea about sets is the ability to perform set operations. These are known from mathematics and can determine the *union*, *intersection*, *difference* etc. of two given sets.\n",
    "\n",
    "See for example these links for explanations on set operations: https://en.wikipedia.org/wiki/Set_(mathematics)#Basic_operations or https://snakify.org/en/lessons/sets/.\n",
    "\n",
    "A list, string or tuple can be converted to a set by `set(sequence_to_convert)`. Since sets only have unique items, the set resulting from the operation has same values as the input sequence, but with duplicates removed. This can be a way to create a list with only unique elements. \n",
    "\n",
    "For example:\n",
    "~~~python\n",
    "# Convert list to set and back to list again with now only unique elements\n",
    "list_uniques = list(set(list_with_duplicates))  \n",
    "~~~\n",
    "\n",
    "### Mutability\n",
    "Sets are ***mutable***. They can be changed after creation.\n",
    "\n",
    "### Set examples"
   ]
  },
  {
   "cell_type": "code",
   "execution_count": 6,
   "metadata": {},
   "outputs": [
    {
     "data": {
      "text/plain": [
       "{1, 3, 6, 7, 8, 21, 26, 32, 86}"
      ]
     },
     "execution_count": 6,
     "metadata": {},
     "output_type": "execute_result"
    }
   ],
   "source": [
    "s1 = {32, 3, 1, 86, 6, 8}\n",
    "s2 = {8, 6, 21, 7, 26}\n",
    "\n",
    "# Find the union of the two sets\n",
    "s1.union(s2)               "
   ]
  },
  {
   "cell_type": "code",
   "execution_count": 7,
   "metadata": {},
   "outputs": [
    {
     "data": {
      "text/plain": [
       "{6, 8}"
      ]
     },
     "execution_count": 7,
     "metadata": {},
     "output_type": "execute_result"
    }
   ],
   "source": [
    "# Find the intersection of the two sets\n",
    "s1.intersection(s2)       "
   ]
  },
  {
   "cell_type": "code",
   "execution_count": 8,
   "metadata": {},
   "outputs": [
    {
     "data": {
      "text/plain": [
       "{1, 2, 3, 4, 5}"
      ]
     },
     "execution_count": 8,
     "metadata": {},
     "output_type": "execute_result"
    }
   ],
   "source": [
    "list_with_duplicates = [1, 2, 3, 4, 5, 2, 2, 3, 1]\n",
    "\n",
    "# Create a set of the list (which removed duplicates)\n",
    "s3 = set(list_with_duplicates)   \n",
    "s3"
   ]
  },
  {
   "cell_type": "markdown",
   "metadata": {},
   "source": [
    "If a `list` is wanted again:"
   ]
  },
  {
   "cell_type": "code",
   "execution_count": 9,
   "metadata": {},
   "outputs": [
    {
     "data": {
      "text/plain": [
       "[1, 2, 3, 4, 5]"
      ]
     },
     "execution_count": 9,
     "metadata": {},
     "output_type": "execute_result"
    }
   ],
   "source": [
    "list(s3)"
   ]
  },
  {
   "cell_type": "markdown",
   "metadata": {},
   "source": [
    "## The `in` operator\n",
    "The `in` operator can be used to check whether a certain item is contained in a sequence. The result of the evaluation is a `boolean` (`True` or `False`): "
   ]
  },
  {
   "cell_type": "code",
   "execution_count": 10,
   "metadata": {},
   "outputs": [
    {
     "data": {
      "text/plain": [
       "True"
      ]
     },
     "execution_count": 10,
     "metadata": {},
     "output_type": "execute_result"
    }
   ],
   "source": [
    "2 in [1, 2, 3]"
   ]
  },
  {
   "cell_type": "code",
   "execution_count": 11,
   "metadata": {},
   "outputs": [
    {
     "data": {
      "text/plain": [
       "True"
      ]
     },
     "execution_count": 11,
     "metadata": {},
     "output_type": "execute_result"
    }
   ],
   "source": [
    "'ma' in 'Denmark'"
   ]
  },
  {
   "cell_type": "code",
   "execution_count": 12,
   "metadata": {},
   "outputs": [
    {
     "data": {
      "text/plain": [
       "False"
      ]
     },
     "execution_count": 12,
     "metadata": {},
     "output_type": "execute_result"
    }
   ],
   "source": [
    "'er' in 'Denmark'  "
   ]
  },
  {
   "attachments": {
    "image.png": {
     "image/png": "[encoded data removed]"
    }
   },
   "cell_type": "markdown",
   "metadata": {},
   "source": [
    "## Indexing \n",
    "When elements are put into a sequences (strings, lists, tuples etc.), the individual elements gets an index assgined to them. This enables each element to be extracted.  \n",
    "   \n",
    "> **Indexing in Python starts from `0`**, while the last element can be access via index `-1`.\n",
    "\n",
    "![image.png](attachment:image.png)\n",
    "\n",
    "### Use square brackets `[]` to access elements\n",
    "To extract an element by indexing, use sqaure brackets `[]`. This is the general way and works for all sequences."
   ]
  },
  {
   "cell_type": "code",
   "execution_count": 13,
   "metadata": {},
   "outputs": [
    {
     "data": {
      "text/plain": [
       "'a'"
      ]
     },
     "execution_count": 13,
     "metadata": {},
     "output_type": "execute_result"
    }
   ],
   "source": [
    "example_list = ['a', 'b', 'c', 'd']\n",
    "\n",
    "# Extract first element\n",
    "example_list[0]"
   ]
  },
  {
   "cell_type": "code",
   "execution_count": 14,
   "metadata": {},
   "outputs": [
    {
     "data": {
      "text/plain": [
       "'c'"
      ]
     },
     "execution_count": 14,
     "metadata": {},
     "output_type": "execute_result"
    }
   ],
   "source": [
    "# Extract second last element\n",
    "example_list[-2]"
   ]
  },
  {
   "cell_type": "code",
   "execution_count": 15,
   "metadata": {},
   "outputs": [
    {
     "data": {
      "text/plain": [
       "40"
      ]
     },
     "execution_count": 15,
     "metadata": {},
     "output_type": "execute_result"
    }
   ],
   "source": [
    "example_tuple = (10, 20, 30, 40)\n",
    "\n",
    "# Extract fourth element\n",
    "example_tuple[3]"
   ]
  },
  {
   "cell_type": "markdown",
   "metadata": {},
   "source": [
    "### `IndexError`\n",
    "When trying to refer to an index that is **not** present in the data structure, an `IndexError` is raised:"
   ]
  },
  {
   "cell_type": "code",
   "execution_count": 16,
   "metadata": {},
   "outputs": [
    {
     "ename": "IndexError",
     "evalue": "tuple index out of range",
     "output_type": "error",
     "traceback": [
      "\u001b[1;31m---------------------------------------------------------------------------\u001b[0m",
      "\u001b[1;31mIndexError\u001b[0m                                Traceback (most recent call last)",
      "\u001b[1;32m<ipython-input-16-0b45b56db7ad>\u001b[0m in \u001b[0;36m<module>\u001b[1;34m\u001b[0m\n\u001b[1;32m----> 1\u001b[1;33m \u001b[0mexample_tuple\u001b[0m\u001b[1;33m[\u001b[0m\u001b[1;36m10\u001b[0m\u001b[1;33m]\u001b[0m\u001b[1;33m\u001b[0m\u001b[1;33m\u001b[0m\u001b[0m\n\u001b[0m",
      "\u001b[1;31mIndexError\u001b[0m: tuple index out of range"
     ]
    }
   ],
   "source": [
    "example_tuple[10]"
   ]
  },
  {
   "cell_type": "markdown",
   "metadata": {},
   "source": [
    "Remember this error. You will get it a lot!"
   ]
  },
  {
   "cell_type": "markdown",
   "metadata": {},
   "source": [
    "### Extracting values from dictionaries\n",
    "Dictionaries differ from data structures like strings, lists and tuples since **they do not have an index**. Instead, a value is extracted by using the corresponding key:"
   ]
  },
  {
   "cell_type": "code",
   "execution_count": 17,
   "metadata": {},
   "outputs": [
    {
     "data": {
      "text/plain": [
       "154"
      ]
     },
     "execution_count": 17,
     "metadata": {},
     "output_type": "execute_result"
    }
   ],
   "source": [
    "d = {'N': 83, 'My': 154, 'Mz': 317}\n",
    "d['My']"
   ]
  },
  {
   "cell_type": "markdown",
   "metadata": {},
   "source": [
    "See demonstation below, where the key `'a'` is defined twice. The second defintion overwrites the first one."
   ]
  },
  {
   "cell_type": "code",
   "execution_count": 18,
   "metadata": {},
   "outputs": [
    {
     "data": {
      "text/plain": [
       "{'a': 4, 'b': 2, 'c': 3}"
      ]
     },
     "execution_count": 18,
     "metadata": {},
     "output_type": "execute_result"
    }
   ],
   "source": [
    "{'a': 1, 'b': 2, 'c':3, 'a': 4}"
   ]
  },
  {
   "attachments": {
    "image.png": {
     "image/png": "[encoded data removed]"
    }
   },
   "cell_type": "markdown",
   "metadata": {},
   "source": [
    "## Slicing\n",
    "Slicing is the operation of extracting multiple elements at once by calling out the index range. An example for slicing of a list is shown below: \n",
    "![image.png](attachment:image.png)\n",
    "\n",
    "> **When slicing**, the stop point of the slice is not included.\n",
    "\n",
    "Examples in this section are shown for lists, but the same concept works for strings and tuples. Set objects do not support indexing/slicing since they are unordered, and dictionaries cannot be sliced either as they have the key functionality instead.\n",
    "\n",
    "### Common slicing operations  \n",
    "Suppose a list `n` has been defined along with two integers `start` and `stop`:\n",
    "\n",
    "\n",
    "```python\n",
    "n = [3, 25, 83, 31, 14, 47,  1, 23, 57]\n",
    "start = 2\n",
    "stop = 6\n",
    "```\n",
    "\n",
    "\n",
    "The list `n` can then be sliced as:\n",
    "\n",
    "```python\n",
    "# Elements from start to stop-1\n",
    "n[start:stop]    ->    [83, 31, 14, 47]\n",
    "\n",
    "# Elements from start to the end of the list\n",
    "n[start:]        ->    [83, 31, 14, 47, 1, 23, 57]\n",
    "\n",
    "# Elements from the beginning to stop-1\n",
    "n[:stop]         ->    [3, 25, 83, 31, 14, 47]\n",
    "\n",
    "# Copy of the whole list (alternative: list.copy())\n",
    "n[:]             ->    [3, 25, 83, 31, 14, 47, 1, 23, 57]   \n",
    "```\n",
    "\n",
    "As seen, the last one creates a copy. This can be useful when working with mutable objects. For example for copying a list to mutate the copy while keeping the original list unchanged.\n",
    "\n",
    "There is also a <code>step</code> mechanism. Continuing from above:\n",
    "\n",
    "~~~python\n",
    "step = 2\n",
    "\n",
    "# Extract from start to stop-1, by step\n",
    "n[start:stop:step]    ->   [83, 14]\n",
    "~~~"
   ]
  },
  {
   "cell_type": "markdown",
   "metadata": {},
   "source": [
    "## List methods\n",
    "Lists have many methods for performing common manipulations. Methods are recognized by the 'dot'-notation, so if a method was called `method_name()`, it would be used like `list.method_name()`.\n",
    "\n",
    "Suppose a list called `L` has been defined. Some of the most common list methods are:\n",
    "\n",
    "~~~python\n",
    "# Insert val at the end of L\n",
    "L.append(val)  \n",
    "\n",
    "# Remove i'th element from L and return it (if i is not provided, it defaults to last element)\n",
    "L.pop([i])   \n",
    "\n",
    "# Reverse all elements in list\n",
    "L.reverse()    \n",
    "~~~\n",
    "Note that these all mutate the list `L` in-place.\n",
    "\n",
    "The `len()` function which was used for strings in Session 1 also works for lists, dictionaries, tuples and sets. This is a function since it does not use 'dot'-notation. \n",
    "\n",
    "Many websites have explanations about string manipulations. This is from the Python documentation itself: https://docs.python.org/3/tutorial/datastructures.html#data-structures\n",
    "\n",
    "**Note:** Methods also exist for common operations on dictionaires, tuples and sets and many other objects. "
   ]
  },
  {
   "cell_type": "markdown",
   "metadata": {
    "collapsed": true
   },
   "source": [
    "## Copying mutable objects\n",
    "When copying objects that are mutable like, lists or dictionaries, there are some things to be aware of. This is demonstrated by a list example below."
   ]
  },
  {
   "cell_type": "code",
   "execution_count": 19,
   "metadata": {},
   "outputs": [
    {
     "data": {
      "text/plain": [
       "[1, 2, 3]"
      ]
     },
     "execution_count": 19,
     "metadata": {},
     "output_type": "execute_result"
    }
   ],
   "source": [
    "x = [1, 2, 3]     \n",
    "y = x          # <-- This does not make y a copy of x \n",
    "y              # It makes y a pointer to the same underlying object (or id) as x has"
   ]
  },
  {
   "cell_type": "code",
   "execution_count": 20,
   "metadata": {},
   "outputs": [
    {
     "data": {
      "text/plain": [
       "1454938262984"
      ]
     },
     "execution_count": 20,
     "metadata": {},
     "output_type": "execute_result"
    }
   ],
   "source": [
    "id(x)  # Behind the scenes, the variable x gets assigned a unique object id"
   ]
  },
  {
   "cell_type": "code",
   "execution_count": 21,
   "metadata": {},
   "outputs": [
    {
     "data": {
      "text/plain": [
       "1454938262984"
      ]
     },
     "execution_count": 21,
     "metadata": {},
     "output_type": "execute_result"
    }
   ],
   "source": [
    "id(y)  # y is seen to have the same underlying object id"
   ]
  },
  {
   "cell_type": "markdown",
   "metadata": {},
   "source": [
    "This means that when we mutate (or modify) `y`, the original list `x` gets changed as well, which is often not desired. This is because it's a pointer to the same object as y."
   ]
  },
  {
   "cell_type": "code",
   "execution_count": 22,
   "metadata": {
    "code_folding": []
   },
   "outputs": [
    {
     "data": {
      "text/plain": [
       "[1, 2, 3, 89]"
      ]
     },
     "execution_count": 22,
     "metadata": {},
     "output_type": "execute_result"
    }
   ],
   "source": [
    "# Put 89 at the end of y\n",
    "y.append(89)\n",
    "y"
   ]
  },
  {
   "cell_type": "code",
   "execution_count": 23,
   "metadata": {},
   "outputs": [
    {
     "data": {
      "text/plain": [
       "[1, 2, 3, 89]"
      ]
     },
     "execution_count": 23,
     "metadata": {},
     "output_type": "execute_result"
    }
   ],
   "source": [
    "# x also got 89 appended to it\n",
    "x"
   ]
  },
  {
   "cell_type": "markdown",
   "metadata": {},
   "source": [
    "This is often not the intention!\n",
    "\n",
    "> **When copying** a mutable object `K` use `K.copy()` or `K[:]`.\n",
    "\n",
    "An example is shown below by using the `list.copy()`method:"
   ]
  },
  {
   "cell_type": "code",
   "execution_count": 24,
   "metadata": {},
   "outputs": [
    {
     "data": {
      "text/plain": [
       "[1, 2, 3]"
      ]
     },
     "execution_count": 24,
     "metadata": {},
     "output_type": "execute_result"
    }
   ],
   "source": [
    "# Redefining x since it was mutated above\n",
    "x_new = [1, 2, 3]   \n",
    "\n",
    "# Copy to new list\n",
    "y_new = x_new.copy()\n",
    "\n",
    "# Show list\n",
    "y_new"
   ]
  },
  {
   "cell_type": "code",
   "execution_count": 25,
   "metadata": {},
   "outputs": [
    {
     "data": {
      "text/plain": [
       "[1, 2, 3, 327]"
      ]
     },
     "execution_count": 25,
     "metadata": {},
     "output_type": "execute_result"
    }
   ],
   "source": [
    "# Append a value to y_new \n",
    "y_new.append(327)\n",
    "\n",
    "# Show list\n",
    "y_new"
   ]
  },
  {
   "cell_type": "code",
   "execution_count": 26,
   "metadata": {},
   "outputs": [
    {
     "data": {
      "text/plain": [
       "[1, 2, 3]"
      ]
     },
     "execution_count": 26,
     "metadata": {},
     "output_type": "execute_result"
    }
   ],
   "source": [
    "# x has not changed\n",
    "x_new"
   ]
  },
  {
   "cell_type": "code",
   "execution_count": 27,
   "metadata": {},
   "outputs": [
    {
     "name": "stdout",
     "output_type": "stream",
     "text": [
      "x_new has object id: 1454938263112 \n",
      "y_new has object id: 1454939006024\n"
     ]
    }
   ],
   "source": [
    "# Print object id's as f-string \n",
    "print(f'x_new has object id: {id(x_new)} \\ny_new has object id: {id(y_new)}')"
   ]
  },
  {
   "cell_type": "markdown",
   "metadata": {},
   "source": [
    "## `for` loops\n",
    "The general syntax in a `for` loop is\n",
    "      \n",
    "### Syntax of `for`-loops\n",
    "      \n",
    "~~~python\n",
    "for item in iterable:\n",
    "    # Code goes here (must be indented!)\n",
    "~~~\n",
    "\n",
    "\n",
    "\n",
    "\n",
    "Recall that an `iterable` is a fancy word for something that can be iterated over. Like strings, lists, tuples etc.\n",
    "\n",
    "So, printing numbers from 0-5 can be done like this:"
   ]
  },
  {
   "cell_type": "code",
   "execution_count": 28,
   "metadata": {},
   "outputs": [
    {
     "name": "stdout",
     "output_type": "stream",
     "text": [
      "0\n",
      "1\n",
      "2\n",
      "3\n",
      "4\n",
      "5\n"
     ]
    }
   ],
   "source": [
    "# Printing numbers from 0-5\n",
    "for num in [0, 1, 2, 3, 4, 5]:\n",
    "    print(num)"
   ]
  },
  {
   "cell_type": "markdown",
   "metadata": {},
   "source": [
    "\n",
    "> **Remember:** All code inside a `for`-block must be indented!\n",
    "\n",
    "A common way of quickly generating the numbers from 0-5 instead of typing the list `[0, 1, 2, 3, 4, 5]` is by the `range()` function, which has two forms:\n",
    "\n",
    "~~~python\n",
    "    range(stop)                 # Generates numbers from 0 to stop-1\n",
    "~~~\n",
    "\n",
    "~~~python\n",
    "    range(start, stop[, step])  # Generates numbers from start to stop-1 (step is optional) \n",
    "~~~"
   ]
  },
  {
   "cell_type": "code",
   "execution_count": 29,
   "metadata": {},
   "outputs": [
    {
     "name": "stdout",
     "output_type": "stream",
     "text": [
      "0\n",
      "1\n",
      "4\n",
      "9\n",
      "16\n",
      "25\n"
     ]
    }
   ],
   "source": [
    "# Printing square of numbers from 0-5\n",
    "for num in range(6):\n",
    "    print(num**2)"
   ]
  },
  {
   "cell_type": "markdown",
   "metadata": {},
   "source": [
    "Here is an example where each element of a list of strings is accessed in turn and named `string`."
   ]
  },
  {
   "cell_type": "code",
   "execution_count": 30,
   "metadata": {},
   "outputs": [
    {
     "name": "stdout",
     "output_type": "stream",
     "text": [
      "superman\n",
      "spiderman\n",
      "green lantern\n"
     ]
    }
   ],
   "source": [
    "strings = ['batman', 'superman', 'spiderman', 'ironman', 'green lantern']\n",
    "h = []\n",
    "for string in strings:    # This would be like saying: for each string in the list strings\n",
    "    if len(string) > 7:   # If the current string has more than seven characters \n",
    "        print(string)     # Print it"
   ]
  },
  {
   "cell_type": "markdown",
   "metadata": {},
   "source": [
    "Note how for-loops in Python can avoid dealing with indexes, while still supporting the alternative."
   ]
  },
  {
   "cell_type": "code",
   "execution_count": 31,
   "metadata": {},
   "outputs": [
    {
     "name": "stdout",
     "output_type": "stream",
     "text": [
      "superman\n",
      "spiderman\n",
      "green lantern\n"
     ]
    }
   ],
   "source": [
    "# Using enumerate to also gain access to the running index\n",
    "for i, string in enumerate(strings):\n",
    "    if len(strings[i]) > 7:   # If the current string has more than seven characters \n",
    "        print(strings[i])     # Print it"
   ]
  },
  {
   "cell_type": "markdown",
   "metadata": {},
   "source": [
    "## `while` loops\n",
    "A `while` loop is a loop that continues until some condition is no longer satisfied.\n",
    "      \n",
    "### Syntax of  `while`-loops     \n",
    "~~~python\n",
    "while condition: \n",
    "    # Code goes here (must be indented!)\n",
    "~~~\n",
    "\n",
    "Where evaluation of `condition` must return a boolean (`True` or `False`).\n",
    "\n",
    "\n",
    "\n",
    "There must be some kind of change in `condition` for every loop. If there isn't, the loop becomes an **infinite loop** and runs forever (or until you stop it). \n",
    "\n",
    "**An example of an infinite loop is**\n",
    "\n",
    "~~~~python\n",
    "counter = 0\n",
    "while counter < 3: \n",
    "    print(counter)     # The variable counter is never updated. 0 < 3 is always True => prints forever\n",
    "~~~~\n",
    "\n",
    "**The counter should be updated within the loop**, e.g. like this:"
   ]
  },
  {
   "cell_type": "code",
   "execution_count": 32,
   "metadata": {},
   "outputs": [
    {
     "name": "stdout",
     "output_type": "stream",
     "text": [
      "The count is 1\n",
      "The count is 2\n",
      "The count is 3\n",
      "The count is 4\n"
     ]
    }
   ],
   "source": [
    "counter = 1\n",
    "while counter < 5: \n",
    "    print(f'The count is {counter}')\n",
    "    counter += 1  # Update counter (equivalent to: counter=counter+1)"
   ]
  },
  {
   "cell_type": "markdown",
   "metadata": {
    "collapsed": true
   },
   "source": [
    "\n",
    " > **Remember:** All code inside a `while`-block must be indented!\n",
    "\n",
    "A `while`-loop can be good when the number of iterations are unknown beforehand. This could be when searching for a root of an equation.\n",
    "\n",
    "When iterating, convergence is not always guaranteed. A common way of exiting the `while`-loop is to define a max number of iterations and then check in each loop whether this number has been reached. If it has, then the loop should `break`.\n",
    "\n",
    "A similar logic to `while`-loops could be done with by `for`-loops, but a `while`-loop is cleaner for some purposes and can help to clarify the intent of the code."
   ]
  },
  {
   "cell_type": "markdown",
   "metadata": {},
   "source": [
    "Both for and while loops can be affected by `continue` and/or `break`. `Continue` starts on the next interation while skipping the rest of the code block and `break` stops the whole loop. The example above is reproduced below using `break`. This can sometime yield more readable code."
   ]
  },
  {
   "cell_type": "code",
   "execution_count": 33,
   "metadata": {},
   "outputs": [
    {
     "name": "stdout",
     "output_type": "stream",
     "text": [
      "The count is 1\n",
      "The count is 2\n",
      "The count is 3\n",
      "The count is 4\n"
     ]
    }
   ],
   "source": [
    "counter = 1\n",
    "while True: \n",
    "    print(f'The count is {counter}')\n",
    "    counter += 1  # Update counter (equivalent to: counter=counter+1)\n",
    "    if counter > 4:\n",
    "        break  # break out of while loop"
   ]
  },
  {
   "cell_type": "markdown",
   "metadata": {},
   "source": [
    "## List comprehensions\n",
    "List comprehensions are another way of writing `for`-loops in a single line of code. They're generally faster and can be used for more compact representation of simple interations yielding more readable code.\n",
    "\n",
    "### General form of list comprehensions\n",
    "The general form of the simplest list comprehension is\n",
    "~~~~python\n",
    "    result_list = [expression for item in iterable]\n",
    "~~~~\n",
    "\n",
    "\n",
    "* <code>iterable</code> is a sequence that can be iterated over, this could be a list, a string, a tuple etc. \n",
    "* <code>item</code> is the counter for the iterable, think of this as the i'th element \n",
    "* <code>expression</code> can be anything, but will often include the <code>item</code>\n",
    "\n",
    "\n"
   ]
  },
  {
   "cell_type": "markdown",
   "metadata": {},
   "source": [
    "A basic example for multiplying all elements by 2:"
   ]
  },
  {
   "cell_type": "code",
   "execution_count": 34,
   "metadata": {},
   "outputs": [
    {
     "data": {
      "text/plain": [
       "[24, 430, 62, 874, 102]"
      ]
     },
     "execution_count": 34,
     "metadata": {},
     "output_type": "execute_result"
    }
   ],
   "source": [
    "# Define a list (iterable)\n",
    "L1 = [12, 215, 31, 437, 51]\n",
    "\n",
    "# List comprehension to multiply each element of L1 by 2\n",
    "L2 = [2*elem for elem in L1]       \n",
    "L2"
   ]
  },
  {
   "cell_type": "markdown",
   "metadata": {},
   "source": [
    "Note that `2 * L1` will not create the same output, but instead repeat the list as seen below."
   ]
  },
  {
   "cell_type": "code",
   "execution_count": 35,
   "metadata": {},
   "outputs": [
    {
     "data": {
      "text/plain": [
       "[12, 215, 31, 437, 51, 12, 215, 31, 437, 51]"
      ]
     },
     "execution_count": 35,
     "metadata": {},
     "output_type": "execute_result"
    }
   ],
   "source": [
    "2 * L1"
   ]
  },
  {
   "cell_type": "markdown",
   "metadata": {},
   "source": [
    "To get a vectorized behavior like that we could have used `numpy`, which is a hugely popular third party library for numerical compuations similar to Matlab. Later sessions will explore `numpy` further."
   ]
  },
  {
   "cell_type": "markdown",
   "metadata": {},
   "source": [
    "### List comprehension with `if`-`else`-statement\n",
    "    \n",
    "~~~~python\n",
    "    result_list = [expression1 if condition else expression2 for item in iterable]\n",
    "~~~~\n",
    "\n",
    "* `iterable` is a sequence that can be iterated over, this could be a list, a string, a tuple etc. \n",
    "\n",
    "* `condition` is a logical condition, e.g. `item > 3`, which returns a boolean (`True`/`False`). This can act as as filter.\n",
    "\n",
    "~~~python\n",
    "T1 = (-18, -27, 2, -21, -15, 5)\n",
    "~~~"
   ]
  },
  {
   "cell_type": "code",
   "execution_count": 1,
   "metadata": {},
   "outputs": [
    {
     "data": {
      "text/plain": [
       "[None, None, 182, None, 151, 174]"
      ]
     },
     "execution_count": 1,
     "metadata": {},
     "output_type": "execute_result"
    }
   ],
   "source": [
    "# Define a list (iterable)\n",
    "v = [3, 62, 182, 26, 151, 174]\n",
    "\n",
    "# Set all elements of v that are less than 100 equal to 0\n",
    "w = [None if x < 100 else x for x in v]\n",
    "w"
   ]
  },
  {
   "cell_type": "markdown",
   "metadata": {
    "collapsed": true
   },
   "source": [
    "### Benefits of list comprehensions\n",
    "List comprehensions can be done in one line and are often cleaner and more readable for simple iteration.  \n",
    "They are also generally computationally faster than regular `for`-loops and also faster to type."
   ]
  },
  {
   "cell_type": "markdown",
   "metadata": {},
   "source": [
    "# Exercise 1\n",
    "Extract the last and first element from the list\n",
    "~~~python\n",
    "L1 = [10, 20, 30, 40, 50, 60]\n",
    "~~~"
   ]
  },
  {
   "cell_type": "markdown",
   "metadata": {},
   "source": [
    "# Exercise 2\n",
    "Extract the following list from `L1` defined above by use of slicing.\n",
    "\n",
    "~~~python\n",
    "[20, 30, 40]\n",
    "~~~"
   ]
  },
  {
   "cell_type": "markdown",
   "metadata": {},
   "source": [
    "# Exercise 3\n",
    "Remove the duplicates from the following list:\n",
    "\n",
    "~~~python\n",
    "L2 = ['Hi', 'Hello', 'Hi!', 'Hey', 'Hi', 'hey', 'Hey']\n",
    "~~~"
   ]
  },
  {
   "cell_type": "markdown",
   "metadata": {},
   "source": [
    "# Exercise 4\n",
    "Given the dictionary\n",
    "\n",
    "~~~python\n",
    "d = {2: 122, 3: 535, 't': 'T', 'rum': 'cola'}\n",
    "~~~\n",
    "Play around with extracting the values by calling out the keys for all key/value pairs.   "
   ]
  },
  {
   "cell_type": "markdown",
   "metadata": {},
   "source": [
    "# Exercise 5\n",
    "Given the list\n",
    "\n",
    "~~~python\n",
    "n = [23, 73, 12, 84]\n",
    "~~~\n",
    "\n",
    "\n",
    "Create a `for` loop that prints:\n",
    "\n",
    "~~~python\n",
    "'23 sqaured is 529'\n",
    "'73 sqaured is 5329'\n",
    "'12 sqaured is 144'\n",
    "'84 sqaured is 7056'\n",
    "~~~\n"
   ]
  },
  {
   "cell_type": "markdown",
   "metadata": {},
   "source": [
    "# Exercise 6\n",
    "Use a list comprehension to create a new list with areas of the circles that have diameters defined by\n",
    "\n",
    "~~~python\n",
    "diameters = [10, 12, 16, 20, 25, 32]\n",
    "~~~"
   ]
  },
  {
   "cell_type": "markdown",
   "metadata": {},
   "source": [
    "# Exercise 7\n",
    "From the following list, create a new list containing only the elements that have exactly five characters.  \n",
    "~~~python\n",
    "phonetic_alphabet = ['Alpha', 'Bravo', 'Charlie', 'Delta', 'Echo', 'Foxtrot']\n",
    "~~~"
   ]
  },
  {
   "cell_type": "markdown",
   "metadata": {},
   "source": [
    "# Exercise 8\n",
    "Find the intersection of the two sets (elements that occur in both sets)\n",
    "~~~python\n",
    "s1 = {'HE170B', 'HE210B', 'HE190A', 'HE200A', 'HE210A', 'HE210A'}\n",
    "\n",
    "s2 = {'HE200A', 'HE210A', 'HE240A', 'HE200A', 'HE210B', 'HE340A'}\n",
    "~~~"
   ]
  },
  {
   "cell_type": "markdown",
   "metadata": {},
   "source": [
    "# Exercise 9\n",
    "Create a variable `fy` and set it equal to 435.\n",
    "\n",
    "Given the tuple below, create a list where each value is:\n",
    "* The value itself if the value is below `fy`\n",
    "* `fy` if the value is larger than `fy`\n",
    "\n",
    "~~~python\n",
    "rebar_stresses = (125, 501, 362, 156, 80, 475, 489)\n",
    "~~~"
   ]
  },
  {
   "cell_type": "markdown",
   "metadata": {},
   "source": [
    "# Exercise 10\n",
    "Given the tuple below, create a list where each value is:\n",
    "* 0 if the value is positive\n",
    "* The value itself is the value is negative and larger than -25\n",
    "* -25 if the value is lower than -25\n",
    "\n",
    "~~~python\n",
    "T1 = (-18, -27, 2, -21, -15, 5)\n",
    "~~~"
   ]
  },
  {
   "cell_type": "markdown",
   "metadata": {},
   "source": [
    "# End of exercises\n",
    "\n",
    "*The cell below is for setting the style of this document. It's not part of the exercises.*"
   ]
  },
  {
   "cell_type": "code",
   "execution_count": 37,
   "metadata": {},
   "outputs": [
    {
     "data": {
      "text/html": [
       "<style>\n",
       "/* div#notebook {\n",
       " font-size: 13pt;\n",
       " line-height: 120%;\n",
       " color: #303030;\n",
       " -webkit-font-smoothing: antialiased !important;\n",
       " padding-top: 25px !important;\n",
       "} */\n",
       "\n",
       "\n",
       "body,\n",
       "div.body {\n",
       " font-family: Roboto;\n",
       " /* font-size: 16pt; */\n",
       " color: #303030;\n",
       " /* background-color: #d1b5b5; */\n",
       " /* background: #8f4f4f; */\n",
       " margin-right: 10px;\n",
       " /* -webkit-font-smoothing: antialiased !important; */\n",
       "}\n",
       "\n",
       "/* Code inside HTML/Markdown */\n",
       "div.rendered_html code {\n",
       "    border-radius: 5px;\n",
       "}\n",
       "\n",
       "/* Output area from code cells */\n",
       "div.output_area pre {\n",
       "    /* font-size: 11pt !important; */\n",
       "    color: #303030;\n",
       "}\n",
       "\n",
       "\n",
       "\n",
       "/* HEADING 1 styles */\n",
       "h1 {\n",
       "    font-family: 'Roboto', 'Signika', sans-serif;\n",
       "    font-weight: ligher;\n",
       "    font-style: normal;\n",
       "    /* font-size: 20pt; */\n",
       "    width: 100%;\n",
       "    text-align: left;\n",
       "    color: #EE7631;\n",
       "    border-bottom: 1px solid rgba(238, 118, 49, 0.575);\n",
       "    padding-bottom: 6px;\n",
       "    /* font-variant: small-caps; */\n",
       "    }\n",
       "  \n",
       "    /* table {\n",
       "        margin: 5px;\n",
       "        width: 290px;\n",
       "    }\n",
       "  \n",
       "    th {\n",
       "        padding: 3px;\n",
       "    }\n",
       "  \n",
       "    td {\n",
       "        padding-left: 8px;\n",
       "        padding-right: 8px;\n",
       "        border: 1px solid #990000;\n",
       "        background-color: #ffffcc;\n",
       "    }\n",
       "\n",
       "    #trHeader {\n",
       "        text-decoration: underline;\n",
       "        color: #990000;\n",
       "    }\n",
       "  \n",
       "    .centerCell {\n",
       "        text-align: center;\n",
       "    } */\n",
       "\n",
       "/* HEADING 2 styles */\n",
       "h2 {\n",
       "        font-family: \"Roboto\";\n",
       "        text-align: left;\n",
       "        /* font-size: 12pt; */\n",
       "        color: #EE7631;\n",
       "        margin-bottom: 5px;\n",
       "        /* border-bottom: 1px solid lightgray; */\n",
       "        border-bottom: 0.8px solid rgba(238, 118, 49, 0.575);\n",
       "        padding-bottom: 6px\n",
       "    }\n",
       "  \n",
       "    /* table {\n",
       "        margin: 5px;\n",
       "        width: 290px;\n",
       "    }\n",
       "  \n",
       "    th {\n",
       "        padding: 3px;\n",
       "    }\n",
       "  \n",
       "    td {\n",
       "        padding-left: 8px;\n",
       "        padding-right: 8px;\n",
       "        border: 1px solid #990000;\n",
       "        background-color: #ffffcc;\n",
       "    }\n",
       "\n",
       "    #trHeader {\n",
       "        text-decoration: underline;\n",
       "        color: #990000;\n",
       "    }\n",
       "  \n",
       "    .centerCell {\n",
       "        text-align: center;\n",
       "    } */\n",
       "\n",
       "h3 {\n",
       "        font-family: 'Roboto';\n",
       "        /* text-align: left; */\n",
       "        /* font-size: 12pt; */\n",
       "        /* color: #EE7631; */\n",
       "        /* margin-bottom: 5px; */\n",
       "        border-bottom: 0.5px solid #ededed;\n",
       "        padding-bottom: 6px\n",
       "    }\n",
       "\n",
       "\n",
       "\n",
       "p {\n",
       "    font-family: Roboto;\n",
       "    font-size: 16px;\n",
       "}\n",
       "\n",
       "/* Lists  with dots */\n",
       "ul {\n",
       "    font-size: 16px;\n",
       "    line-height: 150%;\n",
       "}\n",
       "\n",
       "/* Lists  with numbers */\n",
       "ol {\n",
       "    font-size: 16px;\n",
       "    line-height: 150%;\n",
       "}\n",
       "\n",
       "/* Horizontal rules */\n",
       "hr { \n",
       "    margin-top: 3px; \n",
       "    margin-bottom: 3px \n",
       "}\n",
       "\n",
       "/* Links */\n",
       "a {\n",
       "  color: #EE7631;\n",
       "}\n",
       "\n",
       "\n",
       "/* Change global font size (for code) */\n",
       ".CodeMirror {\n",
       "font-size: 16px !important;\n",
       "font-family: monospace;\n",
       "}\n",
       "\n",
       "\n",
       "/* Code cells in the notebook - NOTE: color is font-color */\n",
       ".cm-s-ipython.CodeMirror {\n",
       " font-family: monospace, monospace;\n",
       " /* font-size: 11pt; */\n",
       " background: #ededed;\n",
       " color: #303030;     \n",
       " border-radius: 2px;\n",
       " /* margin-right: 10px; */\n",
       " font-style: normal;\n",
       " font-weight: normal;\n",
       "}\n",
       "\n",
       "\n",
       "/* Background of code cells */\n",
       ".cm-s-ipython.CodeMirror {\n",
       " font-family: monospace, monospace;\n",
       " /* font-size: 11pt; */\n",
       " background: rgba(211, 211, 211, 0.123);\n",
       " color: #303030;\n",
       " border-radius: 2px;\n",
       " font-style: normal;\n",
       " font-weight: normal;\n",
       "}\n",
       "\n",
       "\n",
       "/* .CodeMirror-gutters {\n",
       " border: none;\n",
       " border-right: 1px solid #e0e1e3 !important;\n",
       " background-color: #e0e1e3 !important;\n",
       " background: #e0e1e3 !important;\n",
       " border-radius: 0px;\n",
       " white-space: nowrap;\n",
       "} */\n",
       "\n",
       "\n",
       "\n",
       "/* Code syntax highlithig theme */\n",
       ".cm-s-ipython .CodeMirror-cursor {\n",
       " border-left: 2px solid #ff711a !important;\n",
       "}\n",
       ".cm-s-ipython span.cm-comment {\n",
       " color: #8d8d8d;\n",
       " font-style: italic;                                                   \n",
       "}\n",
       ".cm-s-ipython span.cm-atom {\n",
       " color: #055be0;\n",
       "}\n",
       ".cm-s-ipython span.cm-number {\n",
       " color: #ff8132;\n",
       "}\n",
       ".cm-s-ipython span.cm-property {\n",
       " color: #303030;\n",
       "}\n",
       ".cm-s-ipython span.cm-attribute {\n",
       " color: #303030;\n",
       "}\n",
       ".cm-s-ipython span.cm-keyword {\n",
       " color: #a045ddf3;\n",
       " font-weight: normal;\n",
       "}\n",
       ".cm-s-ipython span.cm-string {\n",
       " color: #009e07;\n",
       "}\n",
       ".cm-s-ipython span.cm-meta {\n",
       " color: #aa22ff;\n",
       "}\n",
       ".cm-s-ipython span.cm-operator {\n",
       " color: #055be0;\n",
       "}\n",
       ".cm-s-ipython span.cm-builtin {\n",
       " color: #3f2ce7;\n",
       "}\n",
       ".cm-s-ipython span.cm-variable {\n",
       " color: #303030;\n",
       "}\n",
       ".cm-s-ipython span.cm-variable-2 {\n",
       " color: #de143d;\n",
       "}\n",
       ".cm-s-ipython span.cm-variable-3 {\n",
       " color: #aa22ff;\n",
       "}\n",
       ".cm-s-ipython span.cm-def {\n",
       " color: #e22978;\n",
       " font-weight: normal;\n",
       "}\n",
       ".cm-s-ipython span.cm-error {\n",
       " background: rgba(191,11,55,.70);\n",
       "}\n",
       ".cm-s-ipython span.cm-tag {\n",
       " color: #e22978;\n",
       "}\n",
       ".cm-s-ipython span.cm-link {\n",
       " color: #ef5c00;\n",
       "}\n",
       ".cm-s-ipython span.cm-storage {\n",
       " color: #055be0;\n",
       "}\n",
       ".cm-s-ipython span.cm-entity {\n",
       " color: #e22978;\n",
       "}\n",
       ".cm-s-ipython span.cm-quote {\n",
       " color: #009e07;\n",
       "}\n",
       "</style>"
      ],
      "text/plain": [
       "<IPython.core.display.HTML object>"
      ]
     },
     "execution_count": 37,
     "metadata": {},
     "output_type": "execute_result"
    }
   ],
   "source": [
    "from IPython.display import HTML\n",
    "HTML('<style>{}</style>'.format(open('../css/cowi.css').read()))"
   ]
  }
 ],
 "metadata": {
  "hide_input": false,
  "kernelspec": {
   "display_name": "Python 3",
   "language": "python",
   "name": "python3"
  },
  "language_info": {
   "codemirror_mode": {
    "name": "ipython",
    "version": 3
   },
   "file_extension": ".py",
   "mimetype": "text/x-python",
   "name": "python",
   "nbconvert_exporter": "python",
   "pygments_lexer": "ipython3",
   "version": "3.7.5"
  },
  "latex_envs": {
   "LaTeX_envs_menu_present": true,
   "autoclose": false,
   "autocomplete": true,
   "bibliofile": "biblio.bib",
   "cite_by": "apalike",
   "current_citInitial": 1,
   "eqLabelWithNumbers": true,
   "eqNumInitial": 1,
   "hotkeys": {
    "equation": "Ctrl-E",
    "itemize": "Ctrl-I"
   },
   "labels_anchors": false,
   "latex_user_defs": false,
   "report_style_numbering": false,
   "user_envs_cfg": false
  },
  "toc": {
   "base_numbering": 1,
   "nav_menu": {
    "height": "168px",
    "width": "267px"
   },
   "number_sections": false,
   "sideBar": true,
   "skip_h1_title": false,
   "title_cell": "Table of Contents",
   "title_sidebar": "Contents",
   "toc_cell": false,
   "toc_position": {
    "height": "calc(100% - 180px)",
    "left": "10px",
    "top": "150px",
    "width": "165px"
   },
   "toc_section_display": true,
   "toc_window_display": false
  }
 },
 "nbformat": 4,
 "nbformat_minor": 2
}
